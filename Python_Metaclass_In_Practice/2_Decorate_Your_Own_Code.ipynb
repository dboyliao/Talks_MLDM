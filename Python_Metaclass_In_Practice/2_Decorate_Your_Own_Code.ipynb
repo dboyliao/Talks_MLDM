{
 "cells": [
  {
   "cell_type": "code",
   "execution_count": 1,
   "metadata": {
    "collapsed": true
   },
   "outputs": [],
   "source": [
    "from __future__ import print_function\n",
    "import math"
   ]
  },
  {
   "cell_type": "code",
   "execution_count": 2,
   "metadata": {
    "collapsed": true
   },
   "outputs": [],
   "source": [
    "from functools import wraps\n",
    "\n",
    "def return_self(method):\n",
    "    \n",
    "    @wraps(method)\n",
    "    def wrapped(self, *args, **kwargs):\n",
    "        \n",
    "        self.data = method(self, *args, **kwargs)\n",
    "        \n",
    "        return self\n",
    "    \n",
    "    return wrapped"
   ]
  },
  {
   "cell_type": "code",
   "execution_count": 17,
   "metadata": {
    "collapsed": true
   },
   "outputs": [],
   "source": [
    "class MyDataProcessor(object):\n",
    "    \n",
    "    def __init__(self, data):\n",
    "        self.data = data\n",
    "    \n",
    "    @return_self\n",
    "    def add_data_by(self, by = 1):\n",
    "        return list(map(lambda x: x + by, self.data))\n",
    "    \n",
    "    @return_self\n",
    "    def mul_data_by(self, by = 1):\n",
    "        return list(map(lambda x: by*x, self.data))\n",
    "    \n",
    "    @return_self\n",
    "    def apply_fun(self, fun = math.sin):\n",
    "        return list(map(fun, self.data))"
   ]
  },
  {
   "cell_type": "code",
   "execution_count": 18,
   "metadata": {
    "collapsed": true
   },
   "outputs": [],
   "source": [
    "data_processor = MyDataProcessor([1, 2, 3])\n",
    "# Nice!\n",
    "result = data_processor.add_data_by(1)\\\n",
    "                       .mul_data_by(math.pi)\\\n",
    "                       .apply_fun(math.cosh)\\\n",
    "                       .mul_data_by(math.sin(3.232489)).data"
   ]
  },
  {
   "cell_type": "code",
   "execution_count": 19,
   "metadata": {
    "collapsed": false
   },
   "outputs": [
    {
     "name": "stdout",
     "output_type": "stream",
     "text": [
      "[-24.303703304709376, -562.4025703848465, -13014.384932563977]\n"
     ]
    }
   ],
   "source": [
    "print(result)"
   ]
  },
  {
   "cell_type": "code",
   "execution_count": null,
   "metadata": {
    "collapsed": true
   },
   "outputs": [],
   "source": []
  }
 ],
 "metadata": {
  "kernelspec": {
   "display_name": "Python 2",
   "language": "python",
   "name": "python2"
  },
  "language_info": {
   "codemirror_mode": {
    "name": "ipython",
    "version": 2
   },
   "file_extension": ".py",
   "mimetype": "text/x-python",
   "name": "python",
   "nbconvert_exporter": "python",
   "pygments_lexer": "ipython2",
   "version": "2.7.12"
  }
 },
 "nbformat": 4,
 "nbformat_minor": 1
}
