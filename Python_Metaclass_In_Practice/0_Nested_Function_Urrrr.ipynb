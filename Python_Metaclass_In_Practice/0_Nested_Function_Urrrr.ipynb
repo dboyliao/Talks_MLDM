{
 "cells": [
  {
   "cell_type": "code",
   "execution_count": 1,
   "metadata": {
    "collapsed": true
   },
   "outputs": [],
   "source": [
    "from __future__ import print_function\n",
    "import math"
   ]
  },
  {
   "cell_type": "code",
   "execution_count": 2,
   "metadata": {
    "collapsed": true
   },
   "outputs": [],
   "source": [
    "def add_by(data, by = 1):\n",
    "    \n",
    "    return list(map(lambda x: x + by, data))\n",
    "\n",
    "def mul_by(data, by = 1):\n",
    "    \n",
    "    return list(map(lambda x: by*x, data))\n",
    "\n",
    "def apply_fun(data, fun = math.sin):\n",
    "    \n",
    "    return list(map(fun, data))"
   ]
  },
  {
   "cell_type": "code",
   "execution_count": 3,
   "metadata": {
    "collapsed": true
   },
   "outputs": [],
   "source": [
    "def my_awesome_algorithm(data):\n",
    "    \n",
    "    # Urrr.....\n",
    "    result = mul_by(apply_fun(mul_by(add_by(data, 1), math.pi), math.cosh), math.sin(3.232489))\n",
    "    \n",
    "    return result"
   ]
  },
  {
   "cell_type": "code",
   "execution_count": 4,
   "metadata": {
    "collapsed": false
   },
   "outputs": [
    {
     "name": "stdout",
     "output_type": "stream",
     "text": [
      "[-24.303703304709376, -562.4025703848465, -13014.384932563977]\n"
     ]
    }
   ],
   "source": [
    "print(my_awesome_algorithm([1, 2, 3]))"
   ]
  },
  {
   "cell_type": "code",
   "execution_count": 5,
   "metadata": {
    "collapsed": true
   },
   "outputs": [],
   "source": [
    "def my_awesome_algorithm(data):\n",
    "    \n",
    "    # Seriously?\n",
    "    result = mul_by(apply_fun(\n",
    "                        mul_by(\n",
    "                                add_by(data, 1), \n",
    "                                math.pi), \n",
    "                        math.cosh), \n",
    "                math.sin(3.232489))\n",
    "    \n",
    "    return result"
   ]
  },
  {
   "cell_type": "code",
   "execution_count": 6,
   "metadata": {
    "collapsed": false
   },
   "outputs": [
    {
     "name": "stdout",
     "output_type": "stream",
     "text": [
      "[-24.303703304709376, -562.4025703848465, -13014.384932563977]\n"
     ]
    }
   ],
   "source": [
    "print(my_awesome_algorithm([1, 2, 3]))"
   ]
  },
  {
   "cell_type": "code",
   "execution_count": 7,
   "metadata": {
    "collapsed": true
   },
   "outputs": [],
   "source": [
    "def my_awesome_algorithm(data):\n",
    "    # repetitive code....Urrr\n",
    "    data = add_by(data, 1)\n",
    "    data = mul_by(data, math.pi)\n",
    "    data = apply_fun(data, math.cosh)\n",
    "    data = mul_by(data, math.sin(3.232489))\n",
    "    \n",
    "    return data"
   ]
  },
  {
   "cell_type": "code",
   "execution_count": 8,
   "metadata": {
    "collapsed": false
   },
   "outputs": [
    {
     "name": "stdout",
     "output_type": "stream",
     "text": [
      "[-24.303703304709376, -562.4025703848465, -13014.384932563977]\n"
     ]
    }
   ],
   "source": [
    "print(my_awesome_algorithm([1, 2, 3]))"
   ]
  },
  {
   "cell_type": "code",
   "execution_count": null,
   "metadata": {
    "collapsed": true
   },
   "outputs": [],
   "source": []
  }
 ],
 "metadata": {
  "kernelspec": {
   "display_name": "Python 2",
   "language": "python",
   "name": "python2"
  },
  "language_info": {
   "codemirror_mode": {
    "name": "ipython",
    "version": 2
   },
   "file_extension": ".py",
   "mimetype": "text/x-python",
   "name": "python",
   "nbconvert_exporter": "python",
   "pygments_lexer": "ipython2",
   "version": "2.7.12"
  }
 },
 "nbformat": 4,
 "nbformat_minor": 1
}
