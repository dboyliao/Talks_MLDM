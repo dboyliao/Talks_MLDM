{
 "cells": [
  {
   "cell_type": "code",
   "execution_count": 1,
   "metadata": {
    "collapsed": true
   },
   "outputs": [],
   "source": [
    "from __future__ import print_function\n",
    "import math"
   ]
  },
  {
   "cell_type": "code",
   "execution_count": 5,
   "metadata": {
    "collapsed": true
   },
   "outputs": [],
   "source": [
    "class MyAwesomeClass(object):\n",
    "    \n",
    "    def add_by(self, data, by = 1):\n",
    "        return list(map(lambda x: x + by, data))\n",
    "\n",
    "    def mul_by(self, data, by = 1):\n",
    "        return list(map(lambda x: by*x, data))\n",
    "\n",
    "    def apply_fun(self, data, fun = math.sin):\n",
    "        return list(map(fun, data))\n",
    "    \n",
    "    def awesome_algorithm(self, data):\n",
    "        # You're not helping....Really!\n",
    "        result = self.mul_by(\n",
    "                    self.apply_fun(\n",
    "                                self.mul_by(\n",
    "                                        self.add_by(data, 1), \n",
    "                                        math.pi), \n",
    "                                math.cosh), \n",
    "                    math.sin(3.232489))\n",
    "    \n",
    "        return result"
   ]
  },
  {
   "cell_type": "code",
   "execution_count": 6,
   "metadata": {
    "collapsed": false
   },
   "outputs": [
    {
     "data": {
      "text/plain": [
       "[-24.303703304709376, -562.4025703848465, -13014.384932563977]"
      ]
     },
     "execution_count": 6,
     "metadata": {},
     "output_type": "execute_result"
    }
   ],
   "source": [
    "my_awesome_obj = MyAwesomeClass()\n",
    "my_awesome_obj.awesome_algorithm([1, 2, 3])"
   ]
  },
  {
   "cell_type": "markdown",
   "metadata": {},
   "source": [
    "### What I want is some code like this\n",
    "\n",
    "```{python}\n",
    "data = [1, 2, 3]\n",
    "data_processor = MyDataProcessor(data)\n",
    "result = data_processor.add_by(1)\n",
    "                       .mul_by(math.pi)\n",
    "                       .apply_fun(math.cosh)\n",
    "                       .mul_by(math.sin(3.232489))\n",
    "\n",
    "# [-24.303703304709376, -562.4025703848465, -13014.384932563977]\n",
    "```"
   ]
  },
  {
   "cell_type": "code",
   "execution_count": 14,
   "metadata": {
    "collapsed": false
   },
   "outputs": [],
   "source": [
    "# Ok...I got it\n",
    "class MyDataProcessor(object):\n",
    "    \n",
    "    def __init__(self, data):\n",
    "        self.data = data\n",
    "        \n",
    "        \n",
    "    def add_data_by(self, by = 1):\n",
    "        self.data = list(map(lambda x: x + by, self.data))\n",
    "        return self\n",
    "\n",
    "    def mul_data_by(self, by = 1):\n",
    "        self.data = list(map(lambda x: by*x, self.data))\n",
    "        return self\n",
    "\n",
    "    def apply_fun(self, fun = math.sin):\n",
    "        self.data = list(map(fun, self.data))\n",
    "        return self\n",
    "    \n",
    "    def awesome_algorithm(self):\n",
    "        # Much bettr now\n",
    "        self.add_data_by(1)\\\n",
    "            .mul_data_by(math.pi)\\\n",
    "            .apply_fun(math.cosh)\\\n",
    "            .mul_data_by(math.sin(3.232489))\n",
    "    \n",
    "        return self  # <--- this line is repetitive...."
   ]
  },
  {
   "cell_type": "code",
   "execution_count": 17,
   "metadata": {
    "collapsed": false
   },
   "outputs": [
    {
     "name": "stdout",
     "output_type": "stream",
     "text": [
      "[-24.303703304709376, -562.4025703848465, -13014.384932563977]\n"
     ]
    }
   ],
   "source": [
    "data_processor = MyDataProcessor([1, 2, 3])\n",
    "print(data_processor.awesome_algorithm().data)"
   ]
  },
  {
   "cell_type": "code",
   "execution_count": null,
   "metadata": {
    "collapsed": true
   },
   "outputs": [],
   "source": []
  }
 ],
 "metadata": {
  "celltoolbar": "Slideshow",
  "kernelspec": {
   "display_name": "Python 2",
   "language": "python",
   "name": "python2"
  },
  "language_info": {
   "codemirror_mode": {
    "name": "ipython",
    "version": 2
   },
   "file_extension": ".py",
   "mimetype": "text/x-python",
   "name": "python",
   "nbconvert_exporter": "python",
   "pygments_lexer": "ipython2",
   "version": "2.7.12"
  }
 },
 "nbformat": 4,
 "nbformat_minor": 1
}
